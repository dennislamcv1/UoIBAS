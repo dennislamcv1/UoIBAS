{
 "cells": [
  {
   "cell_type": "markdown",
   "id": "fbf5fe0e",
   "metadata": {},
   "source": [
    "# Introduction to Business Analytics with R"
   ]
  },
  {
   "cell_type": "code",
   "execution_count": 1,
   "id": "489d895e",
   "metadata": {},
   "outputs": [],
   "source": [
    "# create a datetime object d that stores today’s date\n",
    "d = as.Date(c(\"2021-12-25\"))"
   ]
  },
  {
   "cell_type": "code",
   "execution_count": 2,
   "id": "a63dc838",
   "metadata": {},
   "outputs": [
    {
     "data": {
      "text/html": [
       "<time datetime=\"2021-12-25\">2021-12-25</time>"
      ],
      "text/latex": [
       "2021-12-25"
      ],
      "text/markdown": [
       "2021-12-25"
      ],
      "text/plain": [
       "[1] \"2021-12-25\""
      ]
     },
     "metadata": {},
     "output_type": "display_data"
    }
   ],
   "source": [
    "d"
   ]
  },
  {
   "cell_type": "code",
   "execution_count": 3,
   "id": "1db92d03",
   "metadata": {},
   "outputs": [
    {
     "name": "stdout",
     "output_type": "stream",
     "text": [
      "[1] \"2021-12-25\"\n"
     ]
    }
   ],
   "source": [
    "#check the data type of the d object\n",
    "print(d)"
   ]
  },
  {
   "cell_type": "code",
   "execution_count": 4,
   "id": "4af967d9",
   "metadata": {},
   "outputs": [
    {
     "name": "stderr",
     "output_type": "stream",
     "text": [
      "Installing package into 'C:/Users/Dennis/Documents/R/win-library/3.6'\n",
      "(as 'lib' is unspecified)\n",
      "\n"
     ]
    },
    {
     "name": "stdout",
     "output_type": "stream",
     "text": [
      "\n",
      "  There is a binary version available but the source version is later:\n",
      "          binary source needs_compilation\n",
      "lubridate 1.7.10  1.8.0              TRUE\n",
      "\n",
      "  Binaries will be installed\n",
      "package 'lubridate' successfully unpacked and MD5 sums checked\n",
      "\n",
      "The downloaded binary packages are in\n",
      "\tC:\\Users\\Dennis\\AppData\\Local\\Temp\\Rtmp8G4Q7u\\downloaded_packages\n"
     ]
    }
   ],
   "source": [
    "#install and load the package “lubridate.” \n",
    "install.packages('lubridate')"
   ]
  },
  {
   "cell_type": "code",
   "execution_count": 5,
   "id": "dc87acfc",
   "metadata": {},
   "outputs": [
    {
     "name": "stderr",
     "output_type": "stream",
     "text": [
      "\n",
      "Attaching package: 'lubridate'\n",
      "\n",
      "\n",
      "The following objects are masked from 'package:base':\n",
      "\n",
      "    date, intersect, setdiff, union\n",
      "\n",
      "\n"
     ]
    }
   ],
   "source": [
    "library(lubridate)"
   ]
  },
  {
   "cell_type": "code",
   "execution_count": 6,
   "id": "e8b6e14c",
   "metadata": {},
   "outputs": [
    {
     "data": {
      "text/html": [
       "<time datetime=\"2021-12-25\">2021-12-25</time>"
      ],
      "text/latex": [
       "2021-12-25"
      ],
      "text/markdown": [
       "2021-12-25"
      ],
      "text/plain": [
       "[1] \"2021-12-25\""
      ]
     },
     "metadata": {},
     "output_type": "display_data"
    }
   ],
   "source": [
    "\n",
    "d <- today()\n",
    "d"
   ]
  },
  {
   "cell_type": "code",
   "execution_count": 7,
   "id": "f9f2290c",
   "metadata": {},
   "outputs": [],
   "source": [
    "#extract the year, month, week and day from the object d \n",
    "d_year <- year(d)\n",
    "d_month <- month(d)\n",
    "d_week <- week(d)\n",
    "d_day <- day(d)"
   ]
  },
  {
   "cell_type": "code",
   "execution_count": 8,
   "id": "bfe67fa0",
   "metadata": {},
   "outputs": [],
   "source": [
    "#create another datetime object, d_25 where date 25 days from now\n",
    "d_25 = today() + 25"
   ]
  },
  {
   "cell_type": "code",
   "execution_count": 9,
   "id": "1b264c8d",
   "metadata": {},
   "outputs": [
    {
     "data": {
      "text/html": [
       "<time datetime=\"2022-01-19\">2022-01-19</time>"
      ],
      "text/latex": [
       "2022-01-19"
      ],
      "text/markdown": [
       "2022-01-19"
      ],
      "text/plain": [
       "[1] \"2022-01-19\""
      ]
     },
     "metadata": {},
     "output_type": "display_data"
    }
   ],
   "source": [
    "d_25"
   ]
  },
  {
   "cell_type": "code",
   "execution_count": 10,
   "id": "b717efde",
   "metadata": {},
   "outputs": [
    {
     "data": {
      "text/plain": [
       "Time difference of 25 days"
      ]
     },
     "metadata": {},
     "output_type": "display_data"
    }
   ],
   "source": [
    "#calculate the difference between d and d_25 \n",
    "difftime(time1 = d_25, time2 = today())"
   ]
  },
  {
   "cell_type": "code",
   "execution_count": null,
   "id": "30ab5a6d",
   "metadata": {},
   "outputs": [],
   "source": []
  }
 ],
 "metadata": {
  "kernelspec": {
   "display_name": "R",
   "language": "R",
   "name": "ir"
  },
  "language_info": {
   "codemirror_mode": "r",
   "file_extension": ".r",
   "mimetype": "text/x-r-source",
   "name": "R",
   "pygments_lexer": "r",
   "version": "3.6.3"
  }
 },
 "nbformat": 4,
 "nbformat_minor": 5
}
