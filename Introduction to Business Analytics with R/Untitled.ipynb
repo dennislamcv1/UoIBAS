{
 "cells": [
  {
   "cell_type": "markdown",
   "id": "862a8e93",
   "metadata": {},
   "source": [
    "### Module 2 Quiz"
   ]
  },
  {
   "cell_type": "code",
   "execution_count": 1,
   "id": "0219651e",
   "metadata": {},
   "outputs": [],
   "source": [
    "x = \"05/04/06\""
   ]
  },
  {
   "cell_type": "code",
   "execution_count": 2,
   "id": "cf5954f1",
   "metadata": {},
   "outputs": [
    {
     "data": {
      "text/html": [
       "<time datetime=\"2006-05-04\">2006-05-04</time>"
      ],
      "text/latex": [
       "2006-05-04"
      ],
      "text/markdown": [
       "2006-05-04"
      ],
      "text/plain": [
       "[1] \"2006-05-04\""
      ]
     },
     "metadata": {},
     "output_type": "display_data"
    }
   ],
   "source": [
    "lubridate::mdy(x)"
   ]
  },
  {
   "cell_type": "code",
   "execution_count": 5,
   "id": "627daa0b",
   "metadata": {},
   "outputs": [
    {
     "name": "stderr",
     "output_type": "stream",
     "text": [
      "Warning message:\n",
      "\" 1 failed to parse.\"\n"
     ]
    },
    {
     "data": {
      "text/html": [
       "<style>\n",
       ".list-inline {list-style: none; margin:0; padding: 0}\n",
       ".list-inline>li {display: inline-block}\n",
       ".list-inline>li:not(:last-child)::after {content: \"\\00b7\"; padding: 0 .5ex}\n",
       "</style>\n",
       "<ol class=list-inline><li><time datetime=\"2006-05-04\">2006-05-04</time></li><li><time datetime=\"&lt;NA&gt;\">&lt;NA&gt;</time></li></ol>\n"
      ],
      "text/latex": [
       "\\begin{enumerate*}\n",
       "\\item 2006-05-04\n",
       "\\item <NA>\n",
       "\\end{enumerate*}\n"
      ],
      "text/markdown": [
       "1. 2006-05-04\n",
       "2. &lt;NA&gt;\n",
       "\n",
       "\n"
      ],
      "text/plain": [
       "[1] \"2006-05-04\" NA          "
      ]
     },
     "metadata": {},
     "output_type": "display_data"
    }
   ],
   "source": [
    "lubridate::mdy(x, format = \"m/d/y\")"
   ]
  },
  {
   "cell_type": "code",
   "execution_count": 7,
   "id": "ebb6ad9b",
   "metadata": {},
   "outputs": [
    {
     "data": {
      "text/html": [
       "<time datetime=\"2006-05-04\">2006-05-04</time>"
      ],
      "text/latex": [
       "2006-05-04"
      ],
      "text/markdown": [
       "2006-05-04"
      ],
      "text/plain": [
       "[1] \"2006-05-04\""
      ]
     },
     "metadata": {},
     "output_type": "display_data"
    }
   ],
   "source": [
    "as.Date(x, format = '%m/%d/%y')"
   ]
  },
  {
   "cell_type": "code",
   "execution_count": 8,
   "id": "92e781a2",
   "metadata": {},
   "outputs": [
    {
     "data": {
      "text/html": [
       "<time datetime=\"&lt;NA&gt;\">&lt;NA&gt;</time>"
      ],
      "text/latex": [
       "<NA>"
      ],
      "text/markdown": [
       "&lt;NA&gt;"
      ],
      "text/plain": [
       "[1] NA"
      ]
     },
     "metadata": {},
     "output_type": "display_data"
    }
   ],
   "source": [
    "as.Date(x, format = \"m/d/y\")"
   ]
  },
  {
   "cell_type": "code",
   "execution_count": 9,
   "id": "a6dfd9aa",
   "metadata": {},
   "outputs": [
    {
     "data": {
      "text/html": [
       "<time datetime=\"&lt;NA&gt;\">&lt;NA&gt;</time>"
      ],
      "text/latex": [
       "<NA>"
      ],
      "text/markdown": [
       "&lt;NA&gt;"
      ],
      "text/plain": [
       "[1] NA"
      ]
     },
     "metadata": {},
     "output_type": "display_data"
    }
   ],
   "source": [
    "as.Date(x, format = 'm/d/y')"
   ]
  },
  {
   "cell_type": "code",
   "execution_count": 10,
   "id": "0773ab37",
   "metadata": {},
   "outputs": [
    {
     "data": {
      "text/html": [
       "<time datetime=\"0005-04-06\">0005-04-06</time>"
      ],
      "text/latex": [
       "0005-04-06"
      ],
      "text/markdown": [
       "0005-04-06"
      ],
      "text/plain": [
       "[1] \"0005-04-06\""
      ]
     },
     "metadata": {},
     "output_type": "display_data"
    }
   ],
   "source": [
    "as.Date(x)"
   ]
  },
  {
   "cell_type": "code",
   "execution_count": 13,
   "id": "a01adb62",
   "metadata": {},
   "outputs": [
    {
     "name": "stderr",
     "output_type": "stream",
     "text": [
      "Warning message in xy.coords(x, y, xlabel, ylabel, log):\n",
      "\"NAs introduced by coercion\"\n",
      "Warning message in min(x):\n",
      "\"no non-missing arguments to min; returning Inf\"\n",
      "Warning message in max(x):\n",
      "\"no non-missing arguments to max; returning -Inf\"\n"
     ]
    },
    {
     "ename": "ERROR",
     "evalue": "Error in plot.window(...): need finite 'ylim' values\n",
     "output_type": "error",
     "traceback": [
      "Error in plot.window(...): need finite 'ylim' values\nTraceback:\n",
      "1. plot(x)",
      "2. plot.default(x)",
      "3. localWindow(xlim, ylim, log, asp, ...)",
      "4. plot.window(...)"
     ]
    },
    {
     "data": {
      "image/png": "[encoded data removed]",
      "text/plain": [
       "plot without title"
      ]
     },
     "metadata": {
      "image/png": {
       "height": 420,
       "width": 420
      }
     },
     "output_type": "display_data"
    }
   ],
   "source": [
    "x <- c('Product 1', 'Product 1', 'Product 2', 'Product 2', 'Product 3')\n",
    " \n",
    "\n",
    "plot(x)"
   ]
  },
  {
   "cell_type": "code",
   "execution_count": 16,
   "id": "c4c61a29",
   "metadata": {},
   "outputs": [
    {
     "data": {
      "text/html": [
       "TRUE"
      ],
      "text/latex": [
       "TRUE"
      ],
      "text/markdown": [
       "TRUE"
      ],
      "text/plain": [
       "[1] TRUE"
      ]
     },
     "metadata": {},
     "output_type": "display_data"
    }
   ],
   "source": [
    "v2 = c(6, NA)\n",
    "\n",
    "6 %in% v2"
   ]
  },
  {
   "cell_type": "code",
   "execution_count": 17,
   "id": "f7ffc7e8",
   "metadata": {},
   "outputs": [
    {
     "name": "stdout",
     "output_type": "stream",
     "text": [
      "[1] 11\n",
      "[1] 12\n",
      "[1] 13\n",
      "[1] 14\n",
      "[1] 15\n"
     ]
    }
   ],
   "source": [
    "for(i in 1:5){\n",
    " \n",
    "\n",
    "print(sum(i+10))\n",
    " \n",
    "\n",
    "}"
   ]
  },
  {
   "cell_type": "code",
   "execution_count": 19,
   "id": "200d53f2",
   "metadata": {},
   "outputs": [
    {
     "data": {
      "image/png": "[encoded data removed]",
      "text/plain": [
       "plot without title"
      ]
     },
     "metadata": {
      "image/png": {
       "height": 420,
       "width": 420
      }
     },
     "output_type": "display_data"
    }
   ],
   "source": [
    "x <- c('Product 1', 'Product 1', 'Product 2','Product 2', 'Product 3')\n",
    " \n",
    "\n",
    "plot(as.factor(x))"
   ]
  },
  {
   "cell_type": "code",
   "execution_count": 20,
   "id": "b53f11a4",
   "metadata": {},
   "outputs": [
    {
     "name": "stdout",
     "output_type": "stream",
     "text": [
      "[1] 11\n",
      "[1] 12\n",
      "[1] 13\n",
      "[1] 14\n",
      "[1] 15\n"
     ]
    }
   ],
   "source": [
    "for(i in 1:5){\n",
    " \n",
    "\n",
    "print(sum(i+10))\n",
    " \n",
    "\n",
    "}"
   ]
  },
  {
   "cell_type": "code",
   "execution_count": 24,
   "id": "dda453dc",
   "metadata": {},
   "outputs": [],
   "source": [
    "?\"str_replace\""
   ]
  },
  {
   "cell_type": "code",
   "execution_count": null,
   "id": "566e871c",
   "metadata": {},
   "outputs": [],
   "source": []
  }
 ],
 "metadata": {
  "kernelspec": {
   "display_name": "R",
   "language": "R",
   "name": "ir"
  },
  "language_info": {
   "codemirror_mode": "r",
   "file_extension": ".r",
   "mimetype": "text/x-r-source",
   "name": "R",
   "pygments_lexer": "r",
   "version": "3.6.3"
  }
 },
 "nbformat": 4,
 "nbformat_minor": 5
}
