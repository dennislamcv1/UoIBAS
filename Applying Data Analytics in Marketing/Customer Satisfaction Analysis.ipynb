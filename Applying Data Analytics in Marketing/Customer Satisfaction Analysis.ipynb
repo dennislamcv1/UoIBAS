{
 "cells": [
  {
   "cell_type": "markdown",
   "metadata": {},
   "source": [
    "## Customer Satisfaction Analysis"
   ]
  },
  {
   "cell_type": "markdown",
   "metadata": {},
   "source": [
    "***"
   ]
  },
  {
   "cell_type": "markdown",
   "metadata": {},
   "source": [
    "In this assignment, you are asked to use some of the commands demonstrated in the video examples to conduct sentiment analysis using R on given examples. You will then be asked to interpret the results. in order to reinforce your knowledge of the R commands and to demonstrate your understanding of the analytical topic. \n",
    "\n",
    "For this assignment, you may use any resources necessary to be able to execute the code. However, the interpretation should reflect your own thinking.  You are to work on the problem alone, without help from any other person."
   ]
  },
  {
   "cell_type": "markdown",
   "metadata": {},
   "source": [
    "### Import Libraries"
   ]
  },
  {
   "cell_type": "code",
   "execution_count": 1,
   "metadata": {},
   "outputs": [
    {
     "data": {
      "application/javascript": [
       "IPython.notebook.set_autosave_interval(60000)"
      ]
     },
     "metadata": {},
     "output_type": "display_data"
    },
    {
     "name": "stdout",
     "output_type": "stream",
     "text": [
      "Autosaving every 60 seconds\n"
     ]
    }
   ],
   "source": [
    "import numpy as np\n",
    "import pandas as pd\n",
    "import matplotlib.pyplot as plt\n",
    "%matplotlib inline\n",
    "\n",
    "# import random\n",
    "# import re\n",
    "# import string\n",
    "\n",
    "#sets the default autosave frequency in seconds\n",
    "%autosave 60\n",
    "\n",
    "# import wordcloud\n",
    "# from wordcloud import WordCloud, ImageColorGenerator\n",
    "\n",
    "# SPACY\n",
    "#import spacy\n",
    "#from spacy.lang.en.stop_words import STOP_WORDS as stopwords\n",
    "\n",
    "# NLTK\n",
    "import nltk\n",
    "# from nltk.tokenize import word_tokenize\n",
    "# from nltk.corpus import stopwords, wordnet\n",
    "# from nltk.stem import WordNetLemmatizer, PorterStemmer, SnowballStemmer\n",
    "# from nltk.probability import FreqDist\n",
    "# from nltk.util import pad_sequence\n",
    "# from nltk.util import bigrams\n",
    "# from nltk.util import ngrams\n",
    "# from nltk.util import everygrams\n",
    "# from nltk.lm.preprocessing import pad_both_ends\n",
    "# from nltk.lm.preprocessing import flatten\n",
    "# from nltk.lm import MLE\n",
    "# from nltk.lm.preprocessing import padded_everygram_pipeline\n",
    "\n",
    "# TextBlob\n",
    "\n",
    "from textblob import TextBlob\n",
    "\n",
    "# PyCaret\n",
    "#from pycaret.nlp import *\n",
    "\n",
    "\n",
    "#random.seed(0)\n",
    "\n",
    "pd.set_option('display.width', 1000)\n",
    "pd.set_option('display.max_colwidth', 1000)\n"
   ]
  },
  {
   "cell_type": "code",
   "execution_count": 2,
   "metadata": {},
   "outputs": [],
   "source": [
    "df = pd.read_csv(\"vader.csv\")"
   ]
  },
  {
   "cell_type": "code",
   "execution_count": 3,
   "metadata": {},
   "outputs": [
    {
     "data": {
      "text/html": [
       "<div>\n",
       "<style scoped>\n",
       "    .dataframe tbody tr th:only-of-type {\n",
       "        vertical-align: middle;\n",
       "    }\n",
       "\n",
       "    .dataframe tbody tr th {\n",
       "        vertical-align: top;\n",
       "    }\n",
       "\n",
       "    .dataframe thead th {\n",
       "        text-align: right;\n",
       "    }\n",
       "</style>\n",
       "<table border=\"1\" class=\"dataframe\">\n",
       "  <thead>\n",
       "    <tr style=\"text-align: right;\">\n",
       "      <th></th>\n",
       "      <th>tweet</th>\n",
       "    </tr>\n",
       "  </thead>\n",
       "  <tbody>\n",
       "    <tr>\n",
       "      <th>0</th>\n",
       "      <td>They are removing the touchbar from #macbook &amp; im not happy about it. I don't understand why they keep switching around.</td>\n",
       "    </tr>\n",
       "    <tr>\n",
       "      <th>1</th>\n",
       "      <td>Did Cristiano Ronaldo really just put those Coke bottles aside?</td>\n",
       "    </tr>\n",
       "    <tr>\n",
       "      <th>2</th>\n",
       "      <td>The battery of the #Apple Macbook Pro 16 inch is so good that I can keep using it all night.</td>\n",
       "    </tr>\n",
       "    <tr>\n",
       "      <th>3</th>\n",
       "      <td>$2400 for a base model? No thank you</td>\n",
       "    </tr>\n",
       "    <tr>\n",
       "      <th>4</th>\n",
       "      <td>Thanks @HomeDepot for this amazing grill!!</td>\n",
       "    </tr>\n",
       "    <tr>\n",
       "      <th>5</th>\n",
       "      <td>It took me 2 hours to change my country setting in Google Play. What a mess!</td>\n",
       "    </tr>\n",
       "  </tbody>\n",
       "</table>\n",
       "</div>"
      ],
      "text/plain": [
       "                                                                                                                      tweet\n",
       "0  They are removing the touchbar from #macbook & im not happy about it. I don't understand why they keep switching around.\n",
       "1                                                           Did Cristiano Ronaldo really just put those Coke bottles aside?\n",
       "2                              The battery of the #Apple Macbook Pro 16 inch is so good that I can keep using it all night.\n",
       "3                                                                                      $2400 for a base model? No thank you\n",
       "4                                                                                Thanks @HomeDepot for this amazing grill!!\n",
       "5                                              It took me 2 hours to change my country setting in Google Play. What a mess!"
      ]
     },
     "execution_count": 3,
     "metadata": {},
     "output_type": "execute_result"
    }
   ],
   "source": [
    "df"
   ]
  },
  {
   "cell_type": "code",
   "execution_count": 4,
   "metadata": {},
   "outputs": [],
   "source": [
    "#nltk.download('stopwords')"
   ]
  },
  {
   "cell_type": "code",
   "execution_count": 5,
   "metadata": {},
   "outputs": [],
   "source": [
    "#exp_nlp101 = setup(data = df, target = 'tweet', session_id = 123)"
   ]
  },
  {
   "cell_type": "markdown",
   "metadata": {},
   "source": [
    "### Question 1, 2, 3"
   ]
  },
  {
   "cell_type": "code",
   "execution_count": 6,
   "metadata": {},
   "outputs": [
    {
     "data": {
      "text/plain": [
       "TextBlob(\"They are removing the touchbar from #macbook & im not happy about it. I don't understand why they keep switching around.\")"
      ]
     },
     "execution_count": 6,
     "metadata": {},
     "output_type": "execute_result"
    }
   ],
   "source": [
    "tb1 = TextBlob(text=df.tweet[0])\n",
    "tb1"
   ]
  },
  {
   "cell_type": "code",
   "execution_count": 7,
   "metadata": {},
   "outputs": [
    {
     "data": {
      "text/plain": [
       "Sentiment(polarity=-0.4, subjectivity=1.0)"
      ]
     },
     "execution_count": 7,
     "metadata": {},
     "output_type": "execute_result"
    }
   ],
   "source": [
    "tb1.sentiment"
   ]
  },
  {
   "cell_type": "code",
   "execution_count": 8,
   "metadata": {},
   "outputs": [
    {
     "data": {
      "text/plain": [
       "Sentiment(polarity=-0.4, subjectivity=1.0, assessments=[(['not', 'happy'], -0.4, 1.0, None)])"
      ]
     },
     "execution_count": 8,
     "metadata": {},
     "output_type": "execute_result"
    }
   ],
   "source": [
    "tb1.sentiment_assessments"
   ]
  },
  {
   "cell_type": "code",
   "execution_count": 9,
   "metadata": {},
   "outputs": [],
   "source": [
    "def find_pol(review):\n",
    "    return TextBlob(review).sentiment.polarity"
   ]
  },
  {
   "cell_type": "code",
   "execution_count": 10,
   "metadata": {},
   "outputs": [],
   "source": [
    "df[\"Sentiment_Polarity\"] = df[\"tweet\"].apply(find_pol)"
   ]
  },
  {
   "cell_type": "code",
   "execution_count": 11,
   "metadata": {},
   "outputs": [
    {
     "data": {
      "text/html": [
       "<div>\n",
       "<style scoped>\n",
       "    .dataframe tbody tr th:only-of-type {\n",
       "        vertical-align: middle;\n",
       "    }\n",
       "\n",
       "    .dataframe tbody tr th {\n",
       "        vertical-align: top;\n",
       "    }\n",
       "\n",
       "    .dataframe thead th {\n",
       "        text-align: right;\n",
       "    }\n",
       "</style>\n",
       "<table border=\"1\" class=\"dataframe\">\n",
       "  <thead>\n",
       "    <tr style=\"text-align: right;\">\n",
       "      <th></th>\n",
       "      <th>tweet</th>\n",
       "      <th>Sentiment_Polarity</th>\n",
       "    </tr>\n",
       "  </thead>\n",
       "  <tbody>\n",
       "    <tr>\n",
       "      <th>0</th>\n",
       "      <td>They are removing the touchbar from #macbook &amp; im not happy about it. I don't understand why they keep switching around.</td>\n",
       "      <td>-0.40000</td>\n",
       "    </tr>\n",
       "    <tr>\n",
       "      <th>1</th>\n",
       "      <td>Did Cristiano Ronaldo really just put those Coke bottles aside?</td>\n",
       "      <td>0.20000</td>\n",
       "    </tr>\n",
       "    <tr>\n",
       "      <th>2</th>\n",
       "      <td>The battery of the #Apple Macbook Pro 16 inch is so good that I can keep using it all night.</td>\n",
       "      <td>0.70000</td>\n",
       "    </tr>\n",
       "    <tr>\n",
       "      <th>3</th>\n",
       "      <td>$2400 for a base model? No thank you</td>\n",
       "      <td>-0.80000</td>\n",
       "    </tr>\n",
       "    <tr>\n",
       "      <th>4</th>\n",
       "      <td>Thanks @HomeDepot for this amazing grill!!</td>\n",
       "      <td>0.56875</td>\n",
       "    </tr>\n",
       "    <tr>\n",
       "      <th>5</th>\n",
       "      <td>It took me 2 hours to change my country setting in Google Play. What a mess!</td>\n",
       "      <td>-0.21875</td>\n",
       "    </tr>\n",
       "  </tbody>\n",
       "</table>\n",
       "</div>"
      ],
      "text/plain": [
       "                                                                                                                      tweet  Sentiment_Polarity\n",
       "0  They are removing the touchbar from #macbook & im not happy about it. I don't understand why they keep switching around.            -0.40000\n",
       "1                                                           Did Cristiano Ronaldo really just put those Coke bottles aside?             0.20000\n",
       "2                              The battery of the #Apple Macbook Pro 16 inch is so good that I can keep using it all night.             0.70000\n",
       "3                                                                                      $2400 for a base model? No thank you            -0.80000\n",
       "4                                                                                Thanks @HomeDepot for this amazing grill!!             0.56875\n",
       "5                                              It took me 2 hours to change my country setting in Google Play. What a mess!            -0.21875"
      ]
     },
     "execution_count": 11,
     "metadata": {},
     "output_type": "execute_result"
    }
   ],
   "source": [
    "df"
   ]
  },
  {
   "cell_type": "code",
   "execution_count": 12,
   "metadata": {},
   "outputs": [],
   "source": [
    "df[\"Expression_Label\"] = np.where(df[\"Sentiment_Polarity\"] > 0, 'Positive', 'Negative')"
   ]
  },
  {
   "cell_type": "code",
   "execution_count": 13,
   "metadata": {},
   "outputs": [
    {
     "data": {
      "text/html": [
       "<div>\n",
       "<style scoped>\n",
       "    .dataframe tbody tr th:only-of-type {\n",
       "        vertical-align: middle;\n",
       "    }\n",
       "\n",
       "    .dataframe tbody tr th {\n",
       "        vertical-align: top;\n",
       "    }\n",
       "\n",
       "    .dataframe thead th {\n",
       "        text-align: right;\n",
       "    }\n",
       "</style>\n",
       "<table border=\"1\" class=\"dataframe\">\n",
       "  <thead>\n",
       "    <tr style=\"text-align: right;\">\n",
       "      <th></th>\n",
       "      <th>tweet</th>\n",
       "      <th>Sentiment_Polarity</th>\n",
       "      <th>Expression_Label</th>\n",
       "    </tr>\n",
       "  </thead>\n",
       "  <tbody>\n",
       "    <tr>\n",
       "      <th>0</th>\n",
       "      <td>They are removing the touchbar from #macbook &amp; im not happy about it. I don't understand why they keep switching around.</td>\n",
       "      <td>-0.40000</td>\n",
       "      <td>Negative</td>\n",
       "    </tr>\n",
       "    <tr>\n",
       "      <th>1</th>\n",
       "      <td>Did Cristiano Ronaldo really just put those Coke bottles aside?</td>\n",
       "      <td>0.20000</td>\n",
       "      <td>Positive</td>\n",
       "    </tr>\n",
       "    <tr>\n",
       "      <th>2</th>\n",
       "      <td>The battery of the #Apple Macbook Pro 16 inch is so good that I can keep using it all night.</td>\n",
       "      <td>0.70000</td>\n",
       "      <td>Positive</td>\n",
       "    </tr>\n",
       "    <tr>\n",
       "      <th>3</th>\n",
       "      <td>$2400 for a base model? No thank you</td>\n",
       "      <td>-0.80000</td>\n",
       "      <td>Negative</td>\n",
       "    </tr>\n",
       "    <tr>\n",
       "      <th>4</th>\n",
       "      <td>Thanks @HomeDepot for this amazing grill!!</td>\n",
       "      <td>0.56875</td>\n",
       "      <td>Positive</td>\n",
       "    </tr>\n",
       "    <tr>\n",
       "      <th>5</th>\n",
       "      <td>It took me 2 hours to change my country setting in Google Play. What a mess!</td>\n",
       "      <td>-0.21875</td>\n",
       "      <td>Negative</td>\n",
       "    </tr>\n",
       "  </tbody>\n",
       "</table>\n",
       "</div>"
      ],
      "text/plain": [
       "                                                                                                                      tweet  Sentiment_Polarity Expression_Label\n",
       "0  They are removing the touchbar from #macbook & im not happy about it. I don't understand why they keep switching around.            -0.40000         Negative\n",
       "1                                                           Did Cristiano Ronaldo really just put those Coke bottles aside?             0.20000         Positive\n",
       "2                              The battery of the #Apple Macbook Pro 16 inch is so good that I can keep using it all night.             0.70000         Positive\n",
       "3                                                                                      $2400 for a base model? No thank you            -0.80000         Negative\n",
       "4                                                                                Thanks @HomeDepot for this amazing grill!!             0.56875         Positive\n",
       "5                                              It took me 2 hours to change my country setting in Google Play. What a mess!            -0.21875         Negative"
      ]
     },
     "execution_count": 13,
     "metadata": {},
     "output_type": "execute_result"
    }
   ],
   "source": [
    "df"
   ]
  },
  {
   "cell_type": "code",
   "execution_count": 14,
   "metadata": {},
   "outputs": [],
   "source": [
    "vscores = [0.000, -0.127, 0.241, 0.600, 0.250, 0.625, -0.237, 0.877, 0.800, 0.275]"
   ]
  },
  {
   "cell_type": "code",
   "execution_count": 15,
   "metadata": {},
   "outputs": [
    {
     "data": {
      "text/plain": [
       "0.33039999999999997"
      ]
     },
     "execution_count": 15,
     "metadata": {},
     "output_type": "execute_result"
    }
   ],
   "source": [
    "np.mean(vscores)"
   ]
  },
  {
   "cell_type": "code",
   "execution_count": null,
   "metadata": {},
   "outputs": [],
   "source": []
  },
  {
   "cell_type": "markdown",
   "metadata": {},
   "source": [
    "#### Python code done by Dennis Lam"
   ]
  },
  {
   "cell_type": "code",
   "execution_count": null,
   "metadata": {},
   "outputs": [],
   "source": []
  }
 ],
 "metadata": {
  "kernelspec": {
   "display_name": "Python 3",
   "language": "python",
   "name": "python3"
  },
  "language_info": {
   "codemirror_mode": {
    "name": "ipython",
    "version": 3
   },
   "file_extension": ".py",
   "mimetype": "text/x-python",
   "name": "python",
   "nbconvert_exporter": "python",
   "pygments_lexer": "ipython3",
   "version": "3.8.8"
  }
 },
 "nbformat": 4,
 "nbformat_minor": 4
}
